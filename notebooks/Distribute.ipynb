{
 "cells": [
  {
   "cell_type": "code",
   "execution_count": 124,
   "metadata": {},
   "outputs": [],
   "source": [
    "import tensorflow as tf\n",
    "import pandas as pd\n",
    "import numpy as np\n",
    "import seaborn as sns"
   ]
  },
  {
   "cell_type": "markdown",
   "metadata": {},
   "source": [
    "<h2>Setup environment variables</h2>\n",
    "\n",
    "Store local paths and filenames in environment variables for easy use. "
   ]
  },
  {
   "cell_type": "code",
   "execution_count": 151,
   "metadata": {},
   "outputs": [
    {
     "name": "stdout",
     "output_type": "stream",
     "text": [
      "Root project folder is: /Users/evanderknaap/Documents/Projects/tfvalidate, data is stored in /Users/evanderknaap/Documents/Projects/tfvalidate/raw_data/\n"
     ]
    }
   ],
   "source": [
    "import os\n",
    "\n",
    "# Store the root directory of the project in a variable\n",
    "CWD = os.getcwd() # path to this notebook on the local filesystem\n",
    "BASE,_ = os.path.split(CWD) # on level up, the root directory of the project \n",
    "\n",
    "# Save path to raw in envron variables  \n",
    "DATA_DIR = os.path.join(BASE,'raw_data/')\n",
    "DATA_FILE_NAME = 'true_car_listings.csv'\n",
    "STATS_FILE_NAME = 'stats.tfrecord'\n",
    "\n",
    "DATA_PATH = os.path.join(DATA_DIR,DATA_FILE_NAME)\n",
    "STATS_PATH = os.path.join(DATA_DIR,STATS_FILE_NAME) # path to store statistics \n",
    "\n",
    "print \"Root project folder is: {}, data is stored in {}\".format(BASE,DATA_DIR)"
   ]
  },
  {
   "cell_type": "markdown",
   "metadata": {},
   "source": [
    "<h3>Compute statistics on data on local machine</h3>\n",
    "\n",
    "Point TFDV to the location of our raw data, and compute the statistics. They will be stored as a protobuffer in the the folder located in the statistics path."
   ]
  },
  {
   "cell_type": "code",
   "execution_count": null,
   "metadata": {},
   "outputs": [],
   "source": [
    "# Import tensorflow\n",
    "import tensorflow_data_validation as tfdv\n",
    "\n",
    "# Compute statistics frmo the raw data and store stats as a tfrecord\n",
    "tfdv.generate_statistics_from_csv(data_location=DATA_PATH, output_path=STATS_PATH)"
   ]
  }
 ],
 "metadata": {
  "kernelspec": {
   "display_name": "Python 2",
   "language": "python",
   "name": "python2"
  },
  "language_info": {
   "codemirror_mode": {
    "name": "ipython",
    "version": 2
   },
   "file_extension": ".py",
   "mimetype": "text/x-python",
   "name": "python",
   "nbconvert_exporter": "python",
   "pygments_lexer": "ipython2",
   "version": "2.7.10"
  }
 },
 "nbformat": 4,
 "nbformat_minor": 2
}
