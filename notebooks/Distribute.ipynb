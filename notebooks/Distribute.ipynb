{
 "cells": [
  {
   "cell_type": "code",
   "execution_count": 124,
   "metadata": {},
   "outputs": [],
   "source": [
    "import tensorflow as tf\n",
    "import pandas as pd\n",
    "import numpy as np\n",
    "import seaborn as sns"
   ]
  },
  {
   "cell_type": "markdown",
   "metadata": {},
   "source": [
    "<h2>Store some environment variables</h2>"
   ]
  },
  {
   "cell_type": "code",
   "execution_count": 125,
   "metadata": {},
   "outputs": [
    {
     "name": "stdout",
     "output_type": "stream",
     "text": [
      "Root project folder is: /Users/evanderknaap/Documents/Projects/tfvalidate, notebooks is stored in /Users/evanderknaap/Documents/Projects/tfvalidate/notebooks\n"
     ]
    }
   ],
   "source": [
    "import os\n",
    "\n",
    "# Store the root directory of the project in a variable\n",
    "CWD = os.getcwd() # path to notebook\n",
    "BASE,_ = os.path.split(CWD) # on level up, the root directory \n",
    "\n",
    "\n",
    "\n",
    "print \"Root project folder is: {}, notebooks is stored in {}\".format(BASE,CWD)"
   ]
  },
  {
   "cell_type": "markdown",
   "metadata": {},
   "source": [
    "<h3>Import data validation and try on a small dataset</h3>"
   ]
  },
  {
   "cell_type": "code",
   "execution_count": 38,
   "metadata": {},
   "outputs": [],
   "source": [
    "# Import tensorflow\n",
    "import tensorflow_data_validation as tfdv\n",
    "\n",
    "# Get the working directory of the notebook. Then point to raw_data folder for the data \n",
    "#tfdv.generate_statistics_from_csv()"
   ]
  },
  {
   "cell_type": "code",
   "execution_count": 91,
   "metadata": {},
   "outputs": [
    {
     "name": "stderr",
     "output_type": "stream",
     "text": [
      "bash: line 1: $TESTVAR: command not found\n"
     ]
    }
   ],
   "source": [
    "%%bash\n"
   ]
  },
  {
   "cell_type": "code",
   "execution_count": null,
   "metadata": {},
   "outputs": [],
   "source": []
  }
 ],
 "metadata": {
  "kernelspec": {
   "display_name": "Python 2",
   "language": "python",
   "name": "python2"
  },
  "language_info": {
   "codemirror_mode": {
    "name": "ipython",
    "version": 2
   },
   "file_extension": ".py",
   "mimetype": "text/x-python",
   "name": "python",
   "nbconvert_exporter": "python",
   "pygments_lexer": "ipython2",
   "version": "2.7.10"
  }
 },
 "nbformat": 4,
 "nbformat_minor": 2
}
