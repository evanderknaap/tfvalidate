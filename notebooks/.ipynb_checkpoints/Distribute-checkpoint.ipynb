{
 "cells": [
  {
   "cell_type": "code",
   "execution_count": 124,
   "metadata": {},
   "outputs": [],
   "source": [
    "import tensorflow as tf\n",
    "import pandas as pd\n",
    "import numpy as np\n",
    "import seaborn as sns"
   ]
  },
  {
   "cell_type": "markdown",
   "metadata": {},
   "source": [
    "<h2>Setup environment variables</h2>\n",
    "\n",
    "Store local paths and filenames in environment variables for easy use. "
   ]
  },
  {
   "cell_type": "code",
   "execution_count": 148,
   "metadata": {},
   "outputs": [
    {
     "name": "stdout",
     "output_type": "stream",
     "text": [
      "Root project folder is: /Users/evanderknaap/Documents/Projects/tfvalidate, data is stored in /Users/evanderknaap/Documents/Projects/tfvalidate/raw_data/\n"
     ]
    }
   ],
   "source": [
    "import os\n",
    "\n",
    "# Store the root directory of the project in a variable\n",
    "CWD = os.getcwd() # path to this notebook on the local filesystem\n",
    "BASE,_ = os.path.split(CWD) # on level up, the root directory of the project \n",
    "\n",
    "# Save path to raw in envron variables  \n",
    "DATA_DIR = os.path.join(BASE,'raw_data/')\n",
    "DATA_FILE_NAME = 'true_car_listings.csv'\n",
    "STATS_FILE_NAME = 'stats.tfrecord'\n",
    "\n",
    "DATA_PATH = os.path.join(DATA_DIR,DATA_FILE_NAME)\n",
    "STATS_PATH = os.path.join(DATA_DIR,STATS_FILE_NAME) # path to store statistics \n",
    "\n",
    "print \"Root project folder is: {}, data is stored in {}\".format(BASE,DATA_DIR)"
   ]
  },
  {
   "cell_type": "markdown",
   "metadata": {},
   "source": [
    "<h3>Compute statistics on data on local machine</h3>\n",
    "\n",
    "Point TFDV to the location of our raw data, and compute the statistics. They will be stored as a protobuffer in the the folder located in the statistics path."
   ]
  },
  {
   "cell_type": "code",
   "execution_count": 150,
   "metadata": {},
   "outputs": [
    {
     "ename": "ValueError",
     "evalue": "No file found in the input data location: /Users/evanderknaap/Documents/Projects/tfvalidate/raw_data/true_car_listings.csv",
     "output_type": "error",
     "traceback": [
      "\u001b[0;31m---------------------------------------------------------------------------\u001b[0m",
      "\u001b[0;31mValueError\u001b[0m                                Traceback (most recent call last)",
      "\u001b[0;32m<ipython-input-150-f2ba8f773dcd>\u001b[0m in \u001b[0;36m<module>\u001b[0;34m()\u001b[0m\n\u001b[1;32m      3\u001b[0m \u001b[0;34m\u001b[0m\u001b[0m\n\u001b[1;32m      4\u001b[0m \u001b[0;31m# Get the working directory of the notebook. Then point to raw_data folder for the data.\u001b[0m\u001b[0;34m\u001b[0m\u001b[0;34m\u001b[0m\u001b[0m\n\u001b[0;32m----> 5\u001b[0;31m \u001b[0mtfdv\u001b[0m\u001b[0;34m.\u001b[0m\u001b[0mgenerate_statistics_from_csv\u001b[0m\u001b[0;34m(\u001b[0m\u001b[0mdata_location\u001b[0m\u001b[0;34m=\u001b[0m\u001b[0mDATA_PATH\u001b[0m\u001b[0;34m,\u001b[0m \u001b[0moutput_path\u001b[0m\u001b[0;34m=\u001b[0m\u001b[0mSTATS_PATH\u001b[0m\u001b[0;34m)\u001b[0m\u001b[0;34m\u001b[0m\u001b[0m\n\u001b[0m",
      "\u001b[0;32m/Users/evanderknaap/Documents/Projects/tfvalidate/dataplay/lib/python2.7/site-packages/tensorflow_data_validation/utils/stats_gen_lib.pyc\u001b[0m in \u001b[0;36mgenerate_statistics_from_csv\u001b[0;34m(data_location, column_names, delimiter, output_path, stats_options, pipeline_options)\u001b[0m\n\u001b[1;32m    142\u001b[0m     \u001b[0mskip_header_lines\u001b[0m \u001b[0;34m=\u001b[0m \u001b[0;36m1\u001b[0m \u001b[0;32mif\u001b[0m \u001b[0mcolumn_names\u001b[0m \u001b[0;32mis\u001b[0m \u001b[0mNone\u001b[0m \u001b[0;32melse\u001b[0m \u001b[0;36m0\u001b[0m\u001b[0;34m\u001b[0m\u001b[0m\n\u001b[1;32m    143\u001b[0m     \u001b[0;32mif\u001b[0m \u001b[0mcolumn_names\u001b[0m \u001b[0;32mis\u001b[0m \u001b[0mNone\u001b[0m\u001b[0;34m:\u001b[0m\u001b[0;34m\u001b[0m\u001b[0m\n\u001b[0;32m--> 144\u001b[0;31m       \u001b[0mcolumn_names\u001b[0m \u001b[0;34m=\u001b[0m \u001b[0m_get_csv_header\u001b[0m\u001b[0;34m(\u001b[0m\u001b[0mdata_location\u001b[0m\u001b[0;34m,\u001b[0m \u001b[0mdelimiter\u001b[0m\u001b[0;34m)\u001b[0m\u001b[0;34m\u001b[0m\u001b[0m\n\u001b[0m\u001b[1;32m    145\u001b[0m     _ = (\n\u001b[1;32m    146\u001b[0m         \u001b[0mp\u001b[0m\u001b[0;34m\u001b[0m\u001b[0m\n",
      "\u001b[0;32m/Users/evanderknaap/Documents/Projects/tfvalidate/dataplay/lib/python2.7/site-packages/tensorflow_data_validation/utils/stats_gen_lib.pyc\u001b[0m in \u001b[0;36m_get_csv_header\u001b[0;34m(data_location, delimiter)\u001b[0m\n\u001b[1;32m    181\u001b[0m   \u001b[0;32mif\u001b[0m \u001b[0;32mnot\u001b[0m \u001b[0mmatched_files\u001b[0m\u001b[0;34m:\u001b[0m\u001b[0;34m\u001b[0m\u001b[0m\n\u001b[1;32m    182\u001b[0m     raise ValueError(\n\u001b[0;32m--> 183\u001b[0;31m         'No file found in the input data location: %s' % data_location)\n\u001b[0m\u001b[1;32m    184\u001b[0m \u001b[0;34m\u001b[0m\u001b[0m\n\u001b[1;32m    185\u001b[0m   \u001b[0;31m# Read the header line in the first file.\u001b[0m\u001b[0;34m\u001b[0m\u001b[0;34m\u001b[0m\u001b[0m\n",
      "\u001b[0;31mValueError\u001b[0m: No file found in the input data location: /Users/evanderknaap/Documents/Projects/tfvalidate/raw_data/true_car_listings.csv"
     ]
    }
   ],
   "source": [
    "# Import tensorflow\n",
    "import tensorflow_data_validation as tfdv\n",
    "\n",
    "# Get the working directory of the notebook. Then point to raw_data folder for the data.  \n",
    "tfdv.generate_statistics_from_csv(data_location=DATA_PATH, output_path=STATS_PATH)"
   ]
  },
  {
   "cell_type": "code",
   "execution_count": null,
   "metadata": {},
   "outputs": [],
   "source": []
  }
 ],
 "metadata": {
  "kernelspec": {
   "display_name": "Python 2",
   "language": "python",
   "name": "python2"
  },
  "language_info": {
   "codemirror_mode": {
    "name": "ipython",
    "version": 2
   },
   "file_extension": ".py",
   "mimetype": "text/x-python",
   "name": "python",
   "nbconvert_exporter": "python",
   "pygments_lexer": "ipython2",
   "version": "2.7.10"
  }
 },
 "nbformat": 4,
 "nbformat_minor": 2
}
