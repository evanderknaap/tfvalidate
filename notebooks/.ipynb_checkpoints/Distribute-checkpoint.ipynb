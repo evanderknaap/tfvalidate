{
 "cells": [
  {
   "cell_type": "code",
   "execution_count": 14,
   "metadata": {},
   "outputs": [],
   "source": [
    "import tensorflow as tf\n",
    "import pandas as pd\n",
    "import numpy as np\n",
    "import seaborn as sns"
   ]
  },
  {
   "cell_type": "markdown",
   "metadata": {},
   "source": [
    "Since we are working from a git repo, lets store the root repositroy path "
   ]
  },
  {
   "cell_type": "code",
   "execution_count": 99,
   "metadata": {},
   "outputs": [
    {
     "name": "stderr",
     "output_type": "stream",
     "text": [
      "UsageError: %%bash is a cell magic, but the cell body is empty.\n"
     ]
    }
   ],
   "source": [
    "%%bash"
   ]
  },
  {
   "cell_type": "code",
   "execution_count": 98,
   "metadata": {},
   "outputs": [
    {
     "data": {
      "text/plain": [
       "{'VERSIONER_PYTHON_PREFER_32_BIT': 'no', 'TERM_PROGRAM_VERSION': '404.1', 'LOGNAME': 'evanderknaap', 'USER': 'evanderknaap', 'PATH': '/Users/evanderknaap/Documents/Projects/tfvalidate/dataplay/bin:/Users/evanderknaap/Documents/Projects/tfvalidate/dataplay/bin:/Users/evanderknaap/Downloads/google-cloud-sdk/bin:/usr/local/git/current/bin:/usr/local/bin:/usr/bin:/bin:/usr/local/sbin:/usr/sbin:/sbin', 'HOME': '/Users/evanderknaap', 'PS1': '(dataplay) \\\\h:\\\\W \\\\u\\\\$ ', 'SK_SIGNING_PLUGIN': 'gnubbyagent', 'TERM_PROGRAM': 'Apple_Terminal', 'LANG': 'en_US.UTF-8', '__CF_USER_TEXT_ENCODING': '0x92B11:0x0:0x0', 'TERM': 'xterm-color', 'Apple_PubSub_Socket_Render': '/private/tmp/com.apple.launchd.hNbbZgYiLC/Render', 'VERSIONER_PYTHON_VERSION': '2.7', 'SHLVL': '1', 'GCE_METADATA_TIMEOUT': '3', 'XPC_FLAGS': '0x0', '_': '/Users/evanderknaap/Documents/Projects/tfvalidate/dataplay/bin/jupyter', 'test_var': 'something_usefull', 'TERM_SESSION_ID': 'F9418C4B-B427-4551-B78B-4142851169B1', 'XPC_SERVICE_NAME': '0', 'JPY_PARENT_PID': '32349', 'SSH_AUTH_SOCK': '/private/tmp/com.apple.launchd.aFqIfHbzs6/Listeners', 'VIRTUAL_ENV': '/Users/evanderknaap/Documents/Projects/tfvalidate/dataplay', 'SHELL': '/bin/bash', 'GIT_PAGER': 'cat', 'NO_GCE_CHECK': 'False', 'TMPDIR': '/var/folders/ll/mvblp_pd3tsftmr2fpfx9rkm00k_rj/T/', 'TESTVAR': 'Hello environment variable!', 'MPLBACKEND': 'module://ipykernel.pylab.backend_inline', 'OLDPWD': '/Users/evanderknaap/Documents/Projects/tfvalidate', 'CLICOLOR': '1', 'HISTCONTROL': '', 'PWD': '/Users/evanderknaap/Documents/Projects/tfvalidate/notebooks', 'PAGER': 'cat'}"
      ]
     },
     "execution_count": 98,
     "metadata": {},
     "output_type": "execute_result"
    }
   ],
   "source": [
    "os.environ"
   ]
  },
  {
   "cell_type": "code",
   "execution_count": 103,
   "metadata": {},
   "outputs": [
    {
     "name": "stdout",
     "output_type": "stream",
     "text": [
      "Path to current file (the notebook) is notebooks, one level up is /Users/evanderknaap/Documents/Projects/tfvalidate\n"
     ]
    }
   ],
   "source": [
    "import os\n",
    "\n",
    "# Get the current working directory \n",
    "PWD = os.getcwd() # returned as string \n",
    "(ROOT,PWD) = os.path.split(pwd) # go on level up, the root directory \n",
    "\n",
    "# Set an environment variable to the current working directory \n",
    "print \"Path to current file (the notebook) is {}, one level up is {}\".format(PWD, ROOT)\n",
    "\n",
    "\n",
    "# Try setting an environment variable \n",
    "os.putenv('tck', '1') # save PWD as environment variable so we can use it in parseline arguments "
   ]
  },
  {
   "cell_type": "markdown",
   "metadata": {},
   "source": [
    "<h3>Import data validation and try on a small dataset</h3>"
   ]
  },
  {
   "cell_type": "code",
   "execution_count": 38,
   "metadata": {},
   "outputs": [],
   "source": [
    "# Import tensorflow\n",
    "import tensorflow_data_validation as tfdv\n",
    "\n",
    "# Get the working directory of the notebook. Then point to raw_data folder for the data \n",
    "#tfdv.generate_statistics_from_csv()"
   ]
  },
  {
   "cell_type": "code",
   "execution_count": 91,
   "metadata": {},
   "outputs": [
    {
     "name": "stderr",
     "output_type": "stream",
     "text": [
      "bash: line 1: $TESTVAR: command not found\n"
     ]
    }
   ],
   "source": [
    "%%bash\n"
   ]
  },
  {
   "cell_type": "code",
   "execution_count": null,
   "metadata": {},
   "outputs": [],
   "source": []
  }
 ],
 "metadata": {
  "kernelspec": {
   "display_name": "Python 2",
   "language": "python",
   "name": "python2"
  },
  "language_info": {
   "codemirror_mode": {
    "name": "ipython",
    "version": 2
   },
   "file_extension": ".py",
   "mimetype": "text/x-python",
   "name": "python",
   "nbconvert_exporter": "python",
   "pygments_lexer": "ipython2",
   "version": "2.7.10"
  }
 },
 "nbformat": 4,
 "nbformat_minor": 2
}
