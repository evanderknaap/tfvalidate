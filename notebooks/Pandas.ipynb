{
 "cells": [
  {
   "cell_type": "code",
   "execution_count": 4,
   "metadata": {},
   "outputs": [],
   "source": [
    "import pandas as pd\n",
    "import numpy as np\n",
    "import seaborn as sb\n",
    "import os "
   ]
  },
  {
   "cell_type": "code",
   "execution_count": 7,
   "metadata": {},
   "outputs": [
    {
     "name": "stdout",
     "output_type": "stream",
     "text": [
      "Root location: /Users/evanderknaap/Documents/Projects/tfvalidate\n"
     ]
    }
   ],
   "source": [
    "CWD = os.getcwd() # directory of the notebook\n",
    "ROOT,_ = os.path.split(CWD) # root folder of the project \n",
    "DATA_DIR = os.path.join(ROOT,'raw_data')\n",
    "DATA_PATH = os.path.join(DATA_DIR, 'train_data.csv')\n",
    "\n",
    "# Project root path on your machine\n",
    "print \"Root location: {}\".format(ROOT)"
   ]
  },
  {
   "cell_type": "code",
   "execution_count": 10,
   "metadata": {},
   "outputs": [],
   "source": [
    "# Lets load some train data into a dataframe\n",
    "df = pd.read_csv(DATA_PATH)\n",
    "\n"
   ]
  },
  {
   "cell_type": "code",
   "execution_count": null,
   "metadata": {},
   "outputs": [],
   "source": []
  }
 ],
 "metadata": {
  "kernelspec": {
   "display_name": "Python 2",
   "language": "python",
   "name": "python2"
  },
  "language_info": {
   "codemirror_mode": {
    "name": "ipython",
    "version": 2
   },
   "file_extension": ".py",
   "mimetype": "text/x-python",
   "name": "python",
   "nbconvert_exporter": "python",
   "pygments_lexer": "ipython2",
   "version": "2.7.10"
  }
 },
 "nbformat": 4,
 "nbformat_minor": 2
}
